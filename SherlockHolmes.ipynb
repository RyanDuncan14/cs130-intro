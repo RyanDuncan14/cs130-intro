{
  "nbformat": 4,
  "nbformat_minor": 0,
  "metadata": {
    "colab": {
      "provenance": [],
      "include_colab_link": true
    },
    "kernelspec": {
      "name": "python3",
      "display_name": "Python 3"
    },
    "language_info": {
      "name": "python"
    }
  },
  "cells": [
    {
      "cell_type": "markdown",
      "metadata": {
        "id": "view-in-github",
        "colab_type": "text"
      },
      "source": [
        "<a href=\"https://colab.research.google.com/github/RyanDuncan14/cs130-intro/blob/main/SherlockHolmes.ipynb\" target=\"_parent\"><img src=\"https://colab.research.google.com/assets/colab-badge.svg\" alt=\"Open In Colab\"/></a>"
      ]
    },
    {
      "cell_type": "markdown",
      "source": [
        "Our questions are\n",
        "1. how many time is Sherlock's name mentioned\n",
        "2. how many times Watson's name is mentioned\n",
        "3. who's name is mentioned the most\n",
        "4. how many times is Holmes mentioned\n",
        "5. how many times is Sherlock Holmes full name is mentioned"
      ],
      "metadata": {
        "id": "b-wAiH5D-J_K"
      }
    },
    {
      "cell_type": "code",
      "execution_count": 3,
      "metadata": {
        "colab": {
          "base_uri": "https://localhost:8080/"
        },
        "id": "9mCAZ0iv6CuS",
        "outputId": "960031ad-814a-4c1c-a524-d011edd8a3b5"
      },
      "outputs": [
        {
          "output_type": "stream",
          "name": "stdout",
          "text": [
            "[['Sherlock'], ['Sherlock'], ['Sherlock'], ['Sherlock'], ['Sherlock'], ['Sherlock'], ['Sherlock'], ['Sherlock'], ['Sherlock'], ['Sherlock'], ['Sherlock'], ['Sherlock'], ['Sherlock'], ['Sherlock'], ['Sherlock'], ['Sherlock'], ['Sherlock'], ['Sherlock'], ['Sherlock'], ['Sherlock'], ['Sherlock'], ['Sherlock'], ['Sherlock'], ['Sherlock'], ['Sherlock'], ['Sherlock'], ['Sherlock'], ['Sherlock'], ['Sherlock'], ['Sherlock'], ['Sherlock'], ['Sherlock'], ['Sherlock'], ['Sherlock'], ['Sherlock'], ['Sherlock'], ['Sherlock'], ['Sherlock'], ['Sherlock'], ['Sherlock'], ['Sherlock'], ['Sherlock'], ['Sherlock'], ['Sherlock'], ['Sherlock'], ['Sherlock'], ['Sherlock'], ['Sherlock']]\n",
            "[['Watson'], ['Watson'], ['Watson'], ['Watson'], ['Watson'], ['Watson']]\n",
            "[['Holmes'], ['Holmes'], ['Holmes'], ['Holmes'], ['Holmes'], ['Holmes'], ['Holmes'], ['Holmes'], ['Holmes'], ['Holmes'], ['Holmes'], ['Holmes'], ['Holmes'], ['Holmes'], ['Holmes'], ['Holmes'], ['Holmes'], ['Holmes'], ['Holmes'], ['Holmes'], ['Holmes'], ['Holmes'], ['Holmes'], ['Holmes'], ['Holmes'], ['Holmes'], ['Holmes'], ['Holmes'], ['Holmes'], ['Holmes'], ['Holmes'], ['Holmes'], ['Holmes'], ['Holmes'], ['Holmes'], ['Holmes'], ['Holmes'], ['Holmes'], ['Holmes'], ['Holmes'], ['Holmes'], ['Holmes'], ['Holmes'], ['Holmes'], ['Holmes'], ['Holmes'], ['Holmes'], ['Holmes'], ['Holmes'], ['Holmes'], ['Holmes'], ['Holmes'], ['Holmes'], ['Holmes'], ['Holmes'], ['Holmes'], ['Holmes'], ['Holmes'], ['Holmes'], ['Holmes'], ['Holmes'], ['Holmes'], ['Holmes'], ['Holmes'], ['Holmes'], ['Holmes'], ['Holmes'], ['Holmes'], ['Holmes'], ['Holmes'], ['Holmes'], ['Holmes'], ['Holmes'], ['Holmes'], ['Holmes'], ['Holmes'], ['Holmes'], ['Holmes'], ['Holmes'], ['Holmes'], ['Holmes'], ['Holmes'], ['Holmes'], ['Holmes'], ['Holmes'], ['Holmes'], ['Holmes'], ['Holmes'], ['Holmes'], ['Holmes'], ['Holmes'], ['Holmes'], ['Holmes'], ['Holmes']]\n",
            "[['Sherlock Holmes'], ['Sherlock Holmes'], ['Sherlock Holmes'], ['Sherlock Holmes'], ['Sherlock Holmes'], ['Sherlock Holmes'], ['Sherlock Holmes'], ['Sherlock Holmes'], ['Sherlock Holmes'], ['Sherlock Holmes'], ['Sherlock Holmes'], ['Sherlock Holmes'], ['Sherlock Holmes'], ['Sherlock Holmes'], ['Sherlock Holmes'], ['Sherlock Holmes'], ['Sherlock Holmes'], ['Sherlock Holmes'], ['Sherlock Holmes'], ['Sherlock Holmes'], ['Sherlock Holmes'], ['Sherlock Holmes'], ['Sherlock Holmes'], ['Sherlock Holmes'], ['Sherlock Holmes'], ['Sherlock Holmes'], ['Sherlock Holmes'], ['Sherlock Holmes'], ['Sherlock Holmes'], ['Sherlock Holmes'], ['Sherlock Holmes'], ['Sherlock Holmes'], ['Sherlock Holmes'], ['Sherlock Holmes'], ['Sherlock Holmes'], ['Sherlock Holmes'], ['Sherlock Holmes'], ['Sherlock Holmes'], ['Sherlock Holmes'], ['Sherlock Holmes'], ['Sherlock Holmes'], ['Sherlock Holmes'], ['Sherlock Holmes'], ['Sherlock Holmes'], ['Sherlock Holmes'], ['Sherlock Holmes'], ['Sherlock Holmes']]\n",
            "48\n",
            "6\n",
            "94\n",
            "47\n"
          ]
        }
      ],
      "source": [
        "import urllib.request\n",
        "import re\n",
        "import matplotlib.pyplot as plt\n",
        "hand = urllib.request.urlopen('https://www.gutenberg.org/files/244/244-h/244-h.htm')\n",
        "sherlock = []\n",
        "watson =[]\n",
        "holmes = []\n",
        "sherlock_holmes = []\n",
        "\n",
        "for line in hand:\n",
        "    line = line.decode().strip()\n",
        "    #d =  re.findall('Sherlock Watson Holmes', line)\n",
        "    d =  re.findall('Sherlock', line)\n",
        "    b = re.findall('Watson', line)\n",
        "    h = re.findall('Holmes', line)\n",
        "    x = re.findall('Sherlock Holmes', line)\n",
        "\n",
        "    if d != []:\n",
        "        sherlock.append(d)\n",
        "    if b != []:\n",
        "      watson.append(b)\n",
        "    if h != []:\n",
        "      holmes.append(h)\n",
        "    if x != []:\n",
        "      sherlock_holmes.append(x)\n",
        "\n",
        "print(sherlock)\n",
        "print(watson)\n",
        "print(holmes)\n",
        "print(sherlock_holmes)\n",
        "\n",
        "print(len(sherlock))\n",
        "print(len(watson))\n",
        "print(len(holmes))\n",
        "print(len(sherlock_holmes))\n"
      ]
    },
    {
      "cell_type": "markdown",
      "source": [
        "1. how many time is Sherlock's name mentioned\n",
        "\n",
        "  Sherlock's name is mentioned 48 times in the novel\n",
        "\n",
        "2. how many times Watson's name is mentioned\n",
        "\n",
        "  Watson's name is mentioned 6 times in the novel\n",
        "\n",
        "3. who's name is mentioned the most\n",
        "\n",
        "  Sherlock's name is mentioned more than Watson's\n",
        "\n",
        "4. how many times is Holmes mentioned\n",
        "\n",
        "  Holmes is mentioned 94 times\n",
        "\n",
        "5. how many times is Sherlock Holmes full name is mentioned\n",
        "\n",
        "  His full name is mentioned 47 times\n"
      ],
      "metadata": {
        "id": "hC2v01vt-ib6"
      }
    }
  ]
}